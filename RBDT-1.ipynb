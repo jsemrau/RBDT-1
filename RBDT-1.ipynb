{
 "cells": [
  {
   "cell_type": "code",
   "execution_count": 8,
   "metadata": {},
   "outputs": [],
   "source": [
    "import random\n",
    "import string\n",
    "import sys"
   ]
  },
  {
   "cell_type": "code",
   "execution_count": 9,
   "metadata": {},
   "outputs": [],
   "source": [
    "global vv\n",
    "global counter \n",
    "global count\n",
    "global leafs\n",
    "global nodes\n",
    "global level\n",
    "global attr\n",
    "global branch\n",
    "global level"
   ]
  },
  {
   "cell_type": "markdown",
   "metadata": {},
   "source": [
    "## A Python3 implementation of a rule-based decision tree algorithm"
   ]
  },
  {
   "cell_type": "markdown",
   "metadata": {},
   "source": [
    "Based on the research paper by Dr. Amany AbdelHalim which outlines a new approach to learn decision trees from a set of decision rules that cover the  data instances."
   ]
  },
  {
   "cell_type": "code",
   "execution_count": 10,
   "metadata": {},
   "outputs": [],
   "source": [
    "#specify source files\n",
    "filename_comma ='./data/week_commas.txt'\n",
    "filename_rules ='./data/week_rules.txt'\n",
    "filename_spaces ='./data/week_spaces.txt'"
   ]
  },
  {
   "cell_type": "code",
   "execution_count": 14,
   "metadata": {
    "code_folding": [
     0
    ]
   },
   "outputs": [],
   "source": [
    "def load_file(filename):\n",
    "    \n",
    "    \"\"\"\n",
    "    Tries to extract a filename from the command line.  If none is present, it\n",
    "    prompts the user for a filename and tries to open the file.  If the file \n",
    "    exists, it returns it, otherwise it prints an error message and ends\n",
    "    execution. \n",
    "    \"\"\"\n",
    "    #import spaces file\n",
    "   \n",
    " \n",
    "    try:\n",
    "        fin1 = open(filename, \"r\")\n",
    "    except IOError:\n",
    "        print (\"Error: The file \"+filename+\" was not found on this system.\")\n",
    "        sys.exit(0)\n",
    "    \n",
    "    return fin1"
   ]
  },
  {
   "cell_type": "markdown",
   "metadata": {},
   "source": [
    "#### Helper classes to support the algorithm"
   ]
  },
  {
   "cell_type": "code",
   "execution_count": 15,
   "metadata": {
    "code_folding": [
     0
    ]
   },
   "outputs": [],
   "source": [
    "def extact_class(data1):\n",
    "    classes=[]\n",
    "    for i in data1:\n",
    "        x=i[-1]\n",
    "        if x not in classes:\n",
    "            classes.append(x)\n",
    "    return classes\n",
    "    "
   ]
  },
  {
   "cell_type": "code",
   "execution_count": 16,
   "metadata": {
    "code_folding": [
     0
    ]
   },
   "outputs": [],
   "source": [
    "def class_frequency():\n",
    "    \"\"\"\n",
    "    Creates a list of all values in the target attribute for each record\n",
    "    in the data list object, and returns the value that appears in this list\n",
    "    the most frequently.\n",
    "    \"\"\"\n",
    "    classcount=[]\n",
    "    freq_ctr=0\n",
    "    \n",
    "    for c in classes:\n",
    "        for record in rules:\n",
    "            if (record[-1]==c):\n",
    "                freq_ctr=freq_ctr+1\n",
    "        classcount.append(freq_ctr)\n",
    "        freq_ctr=0\n",
    "        \n",
    "    \n",
    "    print(\" Class count \" + str(classcount))\n",
    "    return  classcount\n"
   ]
  },
  {
   "cell_type": "code",
   "execution_count": 17,
   "metadata": {
    "code_folding": [
     0
    ]
   },
   "outputs": [],
   "source": [
    "def majority_value():\n",
    "    \"\"\"\n",
    "    Creates a list of all values in the target attribute for each record\n",
    "    in the data list object, and returns the value that appears in this list\n",
    "    the most frequently.\n",
    "    \"\"\"\n",
    "    print(\"Classes \" + str(classes) + \"\\n\")\n",
    "    print(\"Rules \" + str(rules) + \"\\n\")\n",
    "    \n",
    "    large=0\n",
    "    maj_ctr=0\n",
    "    for c in classes:\n",
    "        for record in rules:\n",
    "            if (record[-1]==c):\n",
    "                maj_ctr=maj_ctr+1\n",
    "        if (maj_ctr>large):\n",
    "            large=maj_ctr\n",
    "            classis=c\n",
    "        maj_ctr=0\n",
    "        \n",
    "        \n",
    "    print(\" Classis var \" + str(classis))\n",
    "    return  classis"
   ]
  },
  {
   "cell_type": "code",
   "execution_count": 18,
   "metadata": {
    "code_folding": [
     0
    ]
   },
   "outputs": [],
   "source": [
    "def select_class(distinctvals):\n",
    "    \n",
    "    large=classcount[classes.index(distinctvals[0])]\n",
    "    f=distinctvals[0]\n",
    "    for i in distinctvals:\n",
    "        if (classcount[classes.index(i)]>large):\n",
    "            large=classcount[classes.index(i)]\n",
    "            f=i\n",
    "\n",
    "    return f    "
   ]
  },
  {
   "cell_type": "code",
   "execution_count": 19,
   "metadata": {
    "code_folding": [
     0
    ]
   },
   "outputs": [],
   "source": [
    "def attr_matrix(rules1, attributes, classes):\n",
    "#calculate a-matrix for each atribute\n",
    "#inp attibute, output a-matrix\n",
    "#a-matrix is going to be a list of lists number of lists inside it will be number of classes, each list will have values = number of att-values+1\n",
    "    #which is the \"don't care value\"\n",
    "    # am list will have number of lists equal to the number of classes and each list will have number of elements equal to the number of values of the attrib\n",
    "    rules=[]\n",
    "    rules=rules1[:]\n",
    "    \n",
    "    for  attrib in attributes:\n",
    "        am=[[] for i in range(len(classes))]\n",
    "        cvj=[]\n",
    "        vc=[]\n",
    "        x1=0\n",
    "        x2=0\n",
    "        for z in range (0,len(am)):\n",
    "            flag=0\n",
    "            x1=0 \n",
    "            x=values[attributes.index(attrib)]\n",
    "        \n",
    "        \n",
    "            for i in x:\n",
    "                \n",
    "                    for w in rules:\n",
    "                        \n",
    "                            if (i == w[attributes.index(attrib)] and classes[z] == w[len(w)-1]):\n",
    "                                                              \n",
    "                                flag=1\n",
    "                                break\n",
    "                    if (flag==1):            \n",
    "                       am[z].append(1)\n",
    "                    else:\n",
    "                       am[z].append(0)\n",
    "                       \n",
    "                    flag=0\n",
    "        for i in range(0,len(am[0])): #number of values\n",
    "            for ii in range (0,len(am)): #number of classes\n",
    "                 x1=x1+am[ii][i] #we will add the score of a single value for all the classes if zero this means it didnt participate in any calss\n",
    "            cvj.append(x1) #its size will be the number of values of the attrib\n",
    "            x1=0\n",
    "        for i in am:\n",
    "            for x in i:\n",
    "                    x2=x2+x #we will add all the scores for all the values for each class\n",
    "            vc.append(x2) #its size will be number of classes\n",
    "            x2=0\n",
    "            \n",
    "            #################################addition\n",
    "        flag=0    \n",
    "        for u in usedattr:\n",
    "                \n",
    "            if ((u[0]==attrib) and (u[1]<level)):\n",
    "                flag=1\n",
    "                    \n",
    "        if (flag==0):\n",
    "            nca_ca(attrib,cvj,vc,am)\n",
    "        flag=0\n",
    "        ##########################################################\n",
    "    f=call_AE(rules1)\n",
    "    \n",
    "    \n",
    "    del nca1[:] #attributs\n",
    "    del ca1[:]  #attributes\n",
    "    del nca2[:] #cvj of nca1\n",
    "    del ca2[:]  #cvj of ca1\n",
    "    del aca[:]\n",
    "    del anca[:]\n",
    "   \n",
    "    return f\n"
   ]
  },
  {
   "cell_type": "code",
   "execution_count": 20,
   "metadata": {
    "code_folding": [
     0
    ]
   },
   "outputs": [],
   "source": [
    "def nca_ca(attrib,cvj,vc,am):\n",
    "\n",
    "#inp attribute matrix\n",
    "#output either add to nca list or to ca list\n",
    "    counter=0\n",
    "    ncflag=0\n",
    "   \n",
    "    ca1.append(attrib)\n",
    "    ca2.append(cvj)\n",
    "    aca.append(am)\n",
    "    \n"
   ]
  },
  {
   "cell_type": "code",
   "execution_count": 21,
   "metadata": {
    "code_folding": [
     0
    ]
   },
   "outputs": [],
   "source": [
    "def call_AE(rules1):\n",
    "    #we have to determine whether the candidate attribute list ca is empty or not\n",
    "    #if it is empty we will select a leaf node other wise we will call the AE function to select the fit attribute list\n",
    "    removeattr=[]\n",
    "    vals = [record[-1] for record in rules1]   \n",
    "    \n",
    "    if not rules1:\n",
    "        best=default\n",
    "    elif vals.count(vals[0]) == len(vals):\n",
    "       \n",
    "        best=vals[0]\n",
    "       \n",
    "    else:\n",
    "       \n",
    "        best=AE(ca1,ca2,aca,rules1)\n",
    "    \n",
    "    \n",
    "    return best    \n"
   ]
  },
  {
   "cell_type": "code",
   "execution_count": 22,
   "metadata": {
    "code_folding": [
     0
    ]
   },
   "outputs": [],
   "source": [
    "def AE(ca1,ca2,aca,rules1):\n",
    "    \n",
    "# from the list of CA select the attribute with the highest AE\n",
    "# we will see which dontcare value is the leaset and then see which attributes has that number\n",
    "    \n",
    "    #x=len(ca2[0])\n",
    "    attr_with_max_AE=[]\n",
    "    attribute_am_mattrixes=[]\n",
    "    if (len(ca1)>0):\n",
    "        y=ca2[0][-1]   #the value of the dontcare column \n",
    "        for i in ca2:\n",
    "            \n",
    "            if (i[-1]<y):\n",
    "                y=i[-1]\n",
    "        \n",
    "        for i in range(0,len(ca2)):\n",
    "            if(ca2[i][-1]==y):\n",
    "                attr_with_max_AE.append(ca1[i]) #attributes\n",
    "                attribute_am_mattrixes.append(aca[i]) #corresponding am matrixes\n",
    "          \n",
    "    if (len(attr_with_max_AE)==0):\n",
    "\n",
    "        vv=vv+1\n",
    "        return default# or we can return the default this case will happen when there are no more attributes to choose from and at the same time there are more than one class.\n",
    "\n",
    "    elif (len(attr_with_max_AE)==1):\n",
    "        \n",
    "        return attr_with_max_AE[0]\n",
    "\n",
    "    elif (len(attr_with_max_AE)==2):\n",
    "\n",
    "        best=theEvectiveAttrib1(attr_with_max_AE,rules1)\n",
    "        \n",
    "        return best\n",
    "    else:\n",
    "        \n",
    "        best=theEvectiveAttrib(attr_with_max_AE,rules1)\n",
    "        \n",
    "        return best\n"
   ]
  },
  {
   "cell_type": "code",
   "execution_count": 23,
   "metadata": {
    "code_folding": [
     0
    ]
   },
   "outputs": [],
   "source": [
    "def DS(attr_with_max_AE,attribute_am_mattrixes,rules1):\n",
    "#inp attributes with the same attr_with_max_AE\n",
    "#output DS for each attribute\n",
    "    routput.write(\"attribute_am_mattrixes \"+str(attribute_am_mattrixes))\n",
    "    f=[]\n",
    "    b=[]\n",
    "    xc=[]\n",
    "    val_that_came_with_the_class=[]\n",
    "    ds=[]\n",
    "    attr_with_the_max_ds=[]\n",
    "    \n",
    "    for matrix in attribute_am_mattrixes:\n",
    "        \n",
    "        ind=attribute_am_mattrixes.index(matrix)\n",
    "        attr_values=values[attributes.index(attr_with_max_AE[ind])]\n",
    "        attr_values=attr_values[ :len(attr_values)-1]\n",
    "        \n",
    "        for ii in range(0,len(matrix)):\n",
    "            \n",
    "            if (matrix[ii][-1]>=1):\n",
    "                val_that_came_with_the_class.append(attr_values)\n",
    "            else:\n",
    "                for x in range(0,len(matrix[ii])-1):\n",
    "                    if (matrix[ii][x]==1):\n",
    "                        f.append(attr_values[x])\n",
    "                val_that_came_with_the_class.append(f)\n",
    "                f=[]\n",
    "        val_that_came_with_the_class=[x for x in val_that_came_with_the_class if x != []]        \n",
    "        #xc.append(val_that_came_with_the_class)\n",
    "        \n",
    "                 \n",
    "        d=0\n",
    "        v=0\n",
    "        counter=0            \n",
    "        for i in val_that_came_with_the_class:\n",
    "            for ii in val_that_came_with_the_class:  \n",
    "                        for x in range (0,len(i)):\n",
    "                             if (i[x] in ii):\n",
    "                                counter=counter+1\n",
    "                        if (counter==len(i)):\n",
    "                          v=0\n",
    "                        elif(counter==len(ii)):\n",
    "                          v=1\n",
    "                        elif (counter>0):\n",
    "                          v=2\n",
    "                        else:\n",
    "                          v=3\n",
    "                        counter=0    \n",
    "                        d=d+v\n",
    "                        v=0    \n",
    "        ds.append(d)\n",
    "        \n",
    "        d=0\n",
    "        val_that_came_with_the_class=[]\n",
    "    #calculating the largest ds    \n",
    "   \n",
    "    large=-1\n",
    "       \n",
    "    for i in ds:\n",
    "        if (i>large):\n",
    "            large=i\n",
    "    for i in range(0,len(ds)):\n",
    "        if (ds[i]==large):\n",
    "            attr_with_the_max_ds.append(attr_with_max_AE[i])\n",
    "    \n",
    "    \n",
    "    \n",
    "    \n",
    "    if (len(attr_with_the_max_ds)==1):\n",
    "        return attr_with_the_max_ds[0]\n",
    "    elif (len(attr_with_the_max_ds)>1):\n",
    "        best=MVD(attr_with_the_max_ds,rules1)\n",
    "\n",
    "        return best\n",
    "#"
   ]
  },
  {
   "cell_type": "code",
   "execution_count": 24,
   "metadata": {
    "code_folding": [
     0
    ]
   },
   "outputs": [],
   "source": [
    "def get_values_for_mvd(rules1):\n",
    "    values1=[]\n",
    "    get_values=[]\n",
    "    record=rules1[:]\n",
    "    temp=[]\n",
    "    #get_values=get_values[:len(get_values)-1]\n",
    "    \n",
    "\n",
    "    for i in range(0,len(record[0])-1):\n",
    "        \n",
    "        for x in record:\n",
    "            if ((x[i] in temp)==False and (x[i]!=\"dontcare\")):\n",
    "                temp.append(x[i])\n",
    "\n",
    "        values1.append(temp)\n",
    "        temp=[]\n",
    "    \n",
    "    return values1\n"
   ]
  },
  {
   "cell_type": "code",
   "execution_count": 25,
   "metadata": {
    "code_folding": [
     0
    ]
   },
   "outputs": [],
   "source": [
    "def MVD(max_dom,rules1):\n",
    "#inp attributes with the same DS\n",
    "#output attributes with the MVD\n",
    "    values1=get_values_for_mvd(rules1)\n",
    "    minv=0\n",
    "    mvd=[] #will contain the attributes that have the minimum values\n",
    "    minv=len(values1[attributes.index(max_dom[0])])\n",
    "    for i in max_dom:\n",
    "        if (len(values1[attributes.index(i)])<minv):\n",
    "                minv=len(values1[attributes.index(i)])\n",
    "    for i in range(0,len(max_dom)):\n",
    "        if (len(values1[attributes.index(max_dom[i])])==minv):\n",
    "            mvd.append(max_dom[i])\n",
    "\n",
    "   \n",
    "    r=random.randint(0,len(mvd)-1)\n",
    "    best=mvd[r]\n",
    "    \n",
    "    return best\n"
   ]
  },
  {
   "cell_type": "code",
   "execution_count": 26,
   "metadata": {
    "code_folding": [
     0
    ]
   },
   "outputs": [],
   "source": [
    "def getmaxds(valrules):\n",
    "    class_available=[]\n",
    "    vals = [record[-1] for record in valrules]\n",
    "\n",
    "    for v in vals:\n",
    "        if (v not in class_available):\n",
    "            class_available.append(v)\n",
    "          \n",
    "    return len(class_available)\n"
   ]
  },
  {
   "cell_type": "code",
   "execution_count": 27,
   "metadata": {
    "code_folding": [
     0
    ]
   },
   "outputs": [],
   "source": [
    "def theEvectiveAttrib1(mvd,rules1):\n",
    "    attr1_val_ds=[]\n",
    "    attr1_allval_ds=[]\n",
    "    attributes_counter=[]\n",
    "    effective_attr=[]\n",
    "    rest_of_attr=[]\n",
    "    attr_branch_nonleaf=[]\n",
    "    attr_ds_difference=[]\n",
    "    for attr1 in mvd:\n",
    "                \n",
    "        attr1_val_ds=[]\n",
    "        rest_of_attr=[]\n",
    "\n",
    "        values1=get_values_for_mvd(rules1)\n",
    "        attrvalues=values1[attributes.index(attr1)]\n",
    "\n",
    "        counter=0\n",
    "        for val in attrvalues:\n",
    "            attr1_val_ds=[]\n",
    "            valrules=get_rules(rules1, attr1, val)\n",
    " \n",
    "            totalclasses=3*len(classes)*(len(classes)-1)    \n",
    "            maxclass=getmaxds(valrules)\n",
    "            maxds=3*maxclass*(maxclass-1)\n",
    "           \n",
    "            if (maxds==0):\n",
    "                counter=counter+0\n",
    "            else:\n",
    "                counter=counter+1\n",
    " \n",
    "\n",
    "        attr_ds_difference.append(counter)\n",
    "        counter=0\n",
    "                \n",
    "\n",
    "                        \n",
    "\n",
    "    min_ds_dif=attr_ds_difference[0]\n",
    "    for i in attr_ds_difference:\n",
    "        if (i<min_ds_dif):\n",
    "            min_ds_dif=i\n",
    "     \n",
    "    attr_with_min_dsdif=[]\n",
    "    for i in range(0,len(attr_ds_difference)):\n",
    "        if (attr_ds_difference[i]==min_ds_dif):\n",
    "            attr_with_min_dsdif.append(mvd[i])\n",
    "          \n",
    "              \n",
    "    if (len(attr_with_min_dsdif)==1):\n",
    "        return attr_with_min_dsdif[0]\n",
    "    else:\n",
    "        return MVD(attr_with_min_dsdif,rules1)          \n",
    "    "
   ]
  },
  {
   "cell_type": "code",
   "execution_count": 28,
   "metadata": {
    "code_folding": [
     0
    ]
   },
   "outputs": [],
   "source": [
    "def theEvectiveAttrib(mvd,rules1):\n",
    "    attr1_val_ds=[]\n",
    "    attr1_allval_ds=[]\n",
    "    attributes_counter=[]\n",
    "    effective_attr=[]\n",
    "    rest_of_attr=[]\n",
    "    attr_branch_nonleaf=[]\n",
    "    attr_ds_difference=[]\n",
    "    for attr1 in mvd:\n",
    "                   \n",
    "        attr1_val_ds=[]\n",
    "        rest_of_attr=[]\n",
    "\n",
    "        values1=get_values_for_mvd(rules1)\n",
    "        attrvalues=values1[attributes.index(attr1)]\n",
    "        for a in mvd:\n",
    "            rest_of_attr.append(a)\n",
    "            \n",
    "        rest_of_attr.remove(attr1)\n",
    "        counter=0\n",
    "        for val in attrvalues:\n",
    "            attr1_val_ds=[]\n",
    "            valrules=get_rules(rules1, attr1, val)\n",
    "            for attr2 in rest_of_attr:\n",
    "                ds=theEvectiveAttrib_ds(attr2,valrules)\n",
    "                attr1_val_ds.append(ds)\n",
    "            \n",
    "            \n",
    "            totalclasses=3*len(classes)*(len(classes)-1)    \n",
    "            maxclass=getmaxds(valrules)\n",
    "            maxds=3*maxclass*(maxclass-1)\n",
    "                   \n",
    "\n",
    "            if (maxds==0):\n",
    "                counter=counter+0\n",
    "            elif (maxds in attr1_val_ds):\n",
    "                counter=counter+1\n",
    "            else:\n",
    "                    ds_difference=0\n",
    "                    for ds in attr1_val_ds:\n",
    "                        \n",
    "                        ds_difference=ds_difference+(maxds-ds)\n",
    "\n",
    "                \n",
    "                    counter=counter+ds_difference+1\n",
    "\n",
    "        attr_ds_difference.append(counter)\n",
    "        counter=0\n",
    "                \n",
    "\n",
    "                        \n",
    "\n",
    "    min_ds_dif=attr_ds_difference[0]\n",
    "    for i in attr_ds_difference:\n",
    "        if (i<min_ds_dif):\n",
    "            min_ds_dif=i\n",
    "     \n",
    "    attr_with_min_dsdif=[]\n",
    "    for i in range(0,len(attr_ds_difference)):\n",
    "        if (attr_ds_difference[i]==min_ds_dif):\n",
    "            attr_with_min_dsdif.append(mvd[i])\n",
    "          \n",
    "              \n",
    "    if (len(attr_with_min_dsdif)==1):\n",
    "        return attr_with_min_dsdif[0]\n",
    "    else:\n",
    "        return MVD(attr_with_min_dsdif,rules1)          \n",
    "            \n",
    "       \n"
   ]
  },
  {
   "cell_type": "code",
   "execution_count": 29,
   "metadata": {
    "code_folding": [
     0
    ]
   },
   "outputs": [],
   "source": [
    "def theEvectiveAttrib_ds(attrib,valrules):\n",
    "    am=[[] for i in range(len(classes))] #matrix of attribute values for each class  \n",
    "    x1=0\n",
    "    x2=0\n",
    "    for z in range (0,len(am)): #number of classes\n",
    "        flag=0\n",
    "        x1=0 \n",
    "        attr_values=values[attributes.index(attrib)]\n",
    "    \n",
    "        #to determine which value for that attribute occured with that class, we append 1 if it did to am 0 otherwise\n",
    "        for value in attr_values: # is a value at a time attr_values is the list of values for an attribute\n",
    "            \n",
    "                for a_rule in valrules: #one rule at a time\n",
    "                    \n",
    "                        if (value == a_rule[attributes.index(attrib)] and classes[z] == a_rule[-1]): \n",
    "                                                          \n",
    "                            flag=1\n",
    "                            break\n",
    "                if (flag==1):            \n",
    "                   am[z].append(1)\n",
    "                else:\n",
    "                   am[z].append(0)\n",
    "                   \n",
    "                flag=0\n",
    "                \n",
    "    ds=DS1(attrib,am)\n",
    "\n",
    "\n",
    "    return ds    \n",
    "\n"
   ]
  },
  {
   "cell_type": "code",
   "execution_count": 30,
   "metadata": {
    "code_folding": [
     0
    ]
   },
   "outputs": [],
   "source": [
    "def DS1(attrib,am):\n",
    "#inp attributes with the same AE\n",
    "#output DS for each attribute\n",
    "    flag=0\n",
    "    f=[]\n",
    "    b=[]\n",
    "    \n",
    "    values_that_came_with_the_class=[]#is a list containing lists of values that came with each class.\n",
    "    attribute_values=values[attributes.index(attrib)] # we put the values of the attribute \"attrib\" into list \"b\"\n",
    "    # for calculating the ds we nedd to know which values cames with each class\n",
    "    #so if the am of the don'tcare value >=1 this means the whole values in list be came with that class\n",
    "    \n",
    "    for i in am:\n",
    "            if (i[-1]==1):\n",
    "                values_that_came_with_the_class.append(attribute_values[ :len(attribute_values)-1])\n",
    "            else: #otherwise we will see which value was 1 and append it to list f then we append it to values_that_came_with_the_class\n",
    "                for x in range(0,len(i)):\n",
    "                    if (i[x]==1):\n",
    "                        f.append(attribute_values[x])\n",
    "                values_that_came_with_the_class.append(f)\n",
    "                f=[]\n",
    "    \n",
    "    #calculating the disjointness           \n",
    "    d=0\n",
    "    v=0\n",
    "    counter=0\n",
    "    values_that_came_with_the_class=[x for x in values_that_came_with_the_class if x != []]\n",
    "    for i in values_that_came_with_the_class:\n",
    "        for ii in values_that_came_with_the_class:  \n",
    "                    for x in range (0,len(i)):\n",
    "                         if (i[x] in ii):\n",
    "                            counter=counter+1\n",
    "                    if (counter==len(i)):\n",
    "                      v=0\n",
    "                    elif(counter==len(ii)):\n",
    "                      v=1\n",
    "                    elif (counter>0):\n",
    "                      v=2\n",
    "                    else:\n",
    "                      v=3\n",
    "                    counter=0    \n",
    "                    d=d+v\n",
    "                    v=0    \n",
    "    return d\n",
    "    \n",
    " "
   ]
  },
  {
   "cell_type": "code",
   "execution_count": 31,
   "metadata": {
    "code_folding": [
     0
    ]
   },
   "outputs": [],
   "source": [
    "def get_rules(ruless, attr, value):\n",
    "    \"\"\"\n",
    "    Returns a list of all the rules in <rules> with the value of <attr>\n",
    "    matching the given value.\n",
    "    \"\"\"\n",
    "    \n",
    "    rule = ruless[:]\n",
    "    a=attributes.index(attr)\n",
    "    rtn_lst = []\n",
    "    \n",
    "    if not rule:\n",
    "        return rtn_lst\n",
    "    else:\n",
    "        for record in rule:\n",
    "            if ((record[a] == value) or (record[a] == \"dontcare\")):\n",
    "                rtn_lst.append(record)\n",
    "\n",
    "                \n",
    "    return rtn_lst         \n"
   ]
  },
  {
   "cell_type": "code",
   "execution_count": 32,
   "metadata": {
    "code_folding": [
     0
    ]
   },
   "outputs": [],
   "source": [
    "def degree_match(example):\n",
    "    \n",
    "    total_rule_weight=0\n",
    "    for i in rule_weight:\n",
    "        total_rule_weight=total_rule_weight+i\n",
    "    mf_class_list=[]\n",
    "    for c in classes:\n",
    "        c_rules=[]\n",
    "        c_w_rules=[]\n",
    "        for r in range(0,len(rules)):\n",
    "            if (rules[r][-1]==c):\n",
    "                c_rules.append(rules[r])\n",
    "                c_w_rules.append(rule_weight[r])\n",
    "\n",
    "        mf_complex_list=[]\n",
    "        for r in range(0,len(c_rules)):\n",
    "            sel_list=[]\n",
    "            mf_complex=1\n",
    "            for i in range(0,len(c_rules[r])-1):\n",
    "                if (c_rules[r][i]==\"dontcare\")or (c_rules[r][i]==example[i]):\n",
    "                    sel_list.append(1)\n",
    "                else:\n",
    "                    \n",
    "                    sel_list.append(float(1)/float(len(values[i])-1))# this could be modified to values-1 if we are using the values list with the \"dontcare\" in it\n",
    "\n",
    "          \n",
    "            mf_complex=1\n",
    "            for s in sel_list:\n",
    "                mf_complex=mf_complex*float(s)\n",
    "\n",
    "\n",
    "            mf_complex=mf_complex*(float(c_w_rules[r])/float(total_rule_weight))\n",
    "            mf_complex_list.append(mf_complex)\n",
    "                \n",
    "        \n",
    "        mf_complex_list_sum=0\n",
    "        mf_complex_list_product=1\n",
    "       \n",
    "        for mf in mf_complex_list:\n",
    "            mf_complex_list_sum=mf_complex_list_sum+mf\n",
    "            mf_complex_list_product=mf_complex_list_product*mf\n",
    "\n",
    "        mf_class= mf_complex_list_sum- mf_complex_list_product\n",
    "\n",
    "        mf_class_list.append(mf_class)\n",
    "    \n",
    "    max_mf=mf_class_list[0]\n",
    "    max_c=classes[0]\n",
    "    for mf in range(0,len(mf_class_list)):\n",
    "        if (mf_class_list[mf] >max_mf):\n",
    "            max_mf=mf_class_list[mf]\n",
    "            max_c=classes[mf]\n",
    "            \n",
    "    print (\"decision is \"+max_c)\n",
    "    return max_c         \n"
   ]
  },
  {
   "cell_type": "code",
   "execution_count": 33,
   "metadata": {
    "code_folding": [
     0
    ]
   },
   "outputs": [],
   "source": [
    "def get_classification(record, tree):\n",
    "    \"\"\"\n",
    "    This function recursively traverses the decision tree and returns a\n",
    "    classification for the given record.\n",
    "    \"\"\"\n",
    "    global count\n",
    "    \n",
    "    count=count+1\n",
    "    # If the current node is a string, then we've reached a leaf node and\n",
    "    # we can return it as our answer\n",
    "    if type(tree) == type(\"string\"):\n",
    "        \n",
    "        return tree\n",
    "\n",
    "    # Traverse the tree further until a leaf node is found.\n",
    "    else:\n",
    "        attr = list(tree.keys())[0]\n",
    "               \n",
    "       \n",
    "        try:\n",
    "            t = tree[attr][record[attr]]\n",
    "            \n",
    "        except:\n",
    "           \n",
    "            t=degree_match(record)\n",
    "            \n",
    "        return get_classification(record, t)\n"
   ]
  },
  {
   "cell_type": "code",
   "execution_count": 34,
   "metadata": {
    "code_folding": [
     0
    ]
   },
   "outputs": [],
   "source": [
    "def classify(tree, data):\n",
    "    \"\"\"\n",
    "    Returns a list of classifications for each of the records in the data\n",
    "    list as determined by the given decision tree.\n",
    "    \"\"\"\n",
    "    data = data[:]\n",
    "    classification = []\n",
    "    \n",
    "    for record in data:\n",
    "        classification.append(get_classification(record, tree))\n",
    "\n",
    "    print(\"Classification result -> \" + str(classification ))\n",
    "    return classification\n"
   ]
  },
  {
   "cell_type": "code",
   "execution_count": 35,
   "metadata": {
    "code_folding": [
     0
    ]
   },
   "outputs": [],
   "source": [
    "def max_dom(attr_with_the_max_ds,rules1):\n",
    "    \n",
    "    large=-1\n",
    "    attr_with_the_max_ds_dom=[]\n",
    "    mdom=[] #will contain the attributes with the maximum dominance\n",
    "    dom=dominance(rules1)\n",
    "    for i in attr_with_the_max_ds:\n",
    "        attr_with_the_max_ds_dom.append(dom[attributes.index(i)])# we will insert the dominance of each attribute in attr_with_the_max_ds in attr_with_the_max_ds_dom\n",
    "        \n",
    "    \n",
    "    \n",
    "    \n",
    "    for i in attr_with_the_max_ds_dom:#we will calculate the largest dominance in attr_with_the_max_ds_dom\n",
    "        if (i>large):\n",
    "            large=i\n",
    "            \n",
    "    for i in range(0,len(attr_with_the_max_ds_dom)):\n",
    "        if (attr_with_the_max_ds_dom[i]==large):\n",
    "            mdom.append(attr_with_the_max_ds[i])\n",
    "            \n",
    "    if (len(mdom)>1):        \n",
    "        f=MVD(mdom)\n",
    "        return f\n",
    "    else:\n",
    "        return mdom[0]\n"
   ]
  },
  {
   "cell_type": "code",
   "execution_count": 36,
   "metadata": {
    "code_folding": [
     0
    ]
   },
   "outputs": [],
   "source": [
    "def dominance(rule_subset):\n",
    "    counter=0\n",
    "    dom=[]\n",
    "    for i in range(0,len(attributes)):\n",
    "        for ii in rule_subset:\n",
    "            if (ii[i]!=\"dontcare\"):\n",
    "                counter=counter+1\n",
    "        dom.append(counter)\n",
    "        counter=0\n",
    "    return dom\n"
   ]
  },
  {
   "cell_type": "markdown",
   "metadata": {},
   "source": [
    "#### Setup of global variables"
   ]
  },
  {
   "cell_type": "code",
   "execution_count": 37,
   "metadata": {},
   "outputs": [],
   "source": [
    "count=0\n",
    "branch=[]\n",
    "attr_with_max_AE=[] #attribues\n",
    "attribute_am_mattrixes=[]\n",
    "nca1=[] #attributs\n",
    "ca1=[]  #attributes\n",
    "nca2=[] #cvj of nca1\n",
    "ca2=[]  #cvj of ca1\n",
    "ds=[]\n",
    "mvd=[]\n",
    "aca=[]\n",
    "anca=[]\n",
    "leafs=0\n",
    "nodes=0\n",
    "counter=0\n",
    "vv=0\n",
    "v=0\n",
    "l=[]\n",
    "level=0\n",
    "usedattr=[[\"amany\",-1]]\n",
    "attr_with_the_max_ds=[] #final ds\n",
    "\n",
    "get_values=[]\n",
    "temp=[]\n",
    "    "
   ]
  },
  {
   "cell_type": "code",
   "execution_count": 38,
   "metadata": {
    "code_folding": [
     0
    ]
   },
   "outputs": [],
   "source": [
    "#this function creates unique lists of values for the rules\n",
    "\n",
    "def get_values(attrib_index,training):\n",
    "    #Creates a unique list of possible values in the sample\n",
    "    unique_list=[]\n",
    "    \n",
    "    for item in training:\n",
    "        if ((item[attrib_index] not in unique_list) and (item[attrib_index]!=\"dontcare\")):\n",
    "            #print(\"I will append->\" + item[attrib_index])\n",
    "            unique_list.append(item[attrib_index])\n",
    "            \n",
    "    #print(\" Unique \" + str(unique_list))\n",
    "    return unique_list\n"
   ]
  },
  {
   "cell_type": "code",
   "execution_count": 39,
   "metadata": {
    "code_folding": [
     0
    ]
   },
   "outputs": [],
   "source": [
    "def create_decision_tree(rules1, attributes, classes): #target_attr is the decison class name ex: (weather,humidity,decision) target_attr=decision\n",
    "    \"\"\"\n",
    "    Returns a new decision tree based on the rules given.\n",
    "    \"\"\"\n",
    "    #level=0\n",
    "    #nodes=0\n",
    "    #leafs=0\n",
    "    \n",
    "    global level\n",
    "    global nodes\n",
    "    global leafs\n",
    "    \n",
    "    #if not level :\n",
    "    #    level=0\n",
    "    \n",
    "    temp=[]\n",
    "    \n",
    "    level=level+1    \n",
    "    best = attr_matrix(rules1, attributes, classes)\n",
    "    \n",
    "    if (best in classes):\n",
    "        leafs=leafs+1\n",
    "        return best\n",
    "\n",
    "    else:\n",
    "        \n",
    "        # Create a new decision tree/node with the best attribute and an empty\n",
    "        # dictionary object--we'll fill that up next.\n",
    "        tree = {best:{}}\n",
    "        nodes=nodes+1\n",
    "        temp.append(best)\n",
    "        temp.append(level)\n",
    "        usedattr.append(temp)\n",
    "        temp=[]        \n",
    "        # Create a new decision tree/sub-node for each of the values in the\n",
    "        # best attribute field\n",
    "    \n",
    "        for val in get_values(attributes.index(best),rules1):\n",
    "            \n",
    "                \n",
    "            # Create a subtree for the current value under the \"best\" field\n",
    "            subtree = create_decision_tree(\n",
    "                get_rules(rules1, best, val), attributes, classes)\n",
    "            level=level-1\n",
    "            # Add the new subtree to the empty dictionary object in our new\n",
    "            # tree/node we just created.\n",
    "            tree[best][val] = subtree\n",
    "            \n",
    "    usedattr.pop()    \n",
    "    return tree\n",
    "\n"
   ]
  },
  {
   "cell_type": "code",
   "execution_count": 40,
   "metadata": {
    "code_folding": [
     0
    ]
   },
   "outputs": [],
   "source": [
    "def print_tree(tree, strVal, attributes):\n",
    "    \"\"\"\n",
    "    This function recursively crawls through the d-tree and prints it out in a\n",
    "    more readable format than a straight print of the Python dict object.\n",
    "    \"\"\"\n",
    "    \n",
    "    global attr\n",
    "   \n",
    "    ff=\"print_rules.txt\"\n",
    "    rroutput=open(ff,'a')\n",
    "    \n",
    "    if type(tree) == dict:\n",
    "        print(strVal+\" - \"+ list(tree)[0])\n",
    "        branch.append(list(tree)[0])\n",
    "        for item in list(list(tree.values())[0]) :\n",
    "            print (strVal+\" \\t \"+ item)\n",
    "            branch.append(item)\n",
    "            print_tree(list(tree.values())[0][item], strVal + \"\\t\",attributes )\n",
    "\n",
    "        if (branch!=[]):    \n",
    "            branch.pop()\n",
    "        if (branch!=[]):    \n",
    "            branch.pop()            \n",
    "    else:\n",
    "        print(strVal+\"\\t->\\t\"+ tree)\n",
    "        branch.append(tree)\n",
    "        \n",
    "        for a in attributes:\n",
    "            if (a in branch):\n",
    "                rroutput.write(branch[branch.index(a)+1]+\" \")\n",
    "\n",
    "            else:\n",
    "                rroutput.write(\"dontcare \")\n",
    "                \n",
    "        rroutput.write(branch[-1]+\"\\n\")\n",
    "\n",
    "        branch.pop()\n",
    "        branch.pop()\n"
   ]
  },
  {
   "cell_type": "markdown",
   "metadata": {},
   "source": [
    "#### Main routine to work the algorithm"
   ]
  },
  {
   "cell_type": "code",
   "execution_count": 42,
   "metadata": {
    "code_folding": []
   },
   "outputs": [
    {
     "name": "stdout",
     "output_type": "stream",
     "text": [
      "Data [{'pv': 'yes', 'w': 'sunny', 'm': 'rich', 'Decision?': 'cinema'}, {'pv': 'no', 'w': 'sunny', 'm': 'rich', 'Decision?': 'tennis'}, {'pv': 'yes', 'w': 'windy', 'm': 'rich', 'Decision?': 'cinema'}, {'pv': 'yes', 'w': 'rainy', 'm': 'rich', 'Decision?': 'cinema'}, {'pv': 'no', 'w': 'rainy', 'm': 'poor', 'Decision?': 'stay-in'}, {'pv': 'yes', 'w': 'rainy', 'm': 'poor', 'Decision?': 'cinema'}, {'pv': 'no', 'w': 'windy', 'm': 'poor', 'Decision?': 'cinema'}, {'pv': 'no', 'w': 'windy', 'm': 'rich', 'Decision?': 'shopping'}, {'pv': 'yes', 'w': 'windy', 'm': 'rich', 'Decision?': 'cinema'}, {'pv': 'no', 'w': 'sunny', 'm': 'poor', 'Decision?': 'tennis'}]\n"
     ]
    }
   ],
   "source": [
    "#Here the main program starts\n",
    "\n",
    "#code to assign lines of data in the data file seperated by commas into a list named \"data\"\n",
    "fin_comma=load_file(filename_comma)\n",
    "fin_rules=load_file(filename_rules)\n",
    "\n",
    "\n",
    "#fin1= comma, fin=spaces, fin2=rules\n",
    "#read from the comma file\n",
    "lines = [line.strip() for line in fin_comma.readlines()]\n",
    "\n",
    "# Remove the attributes from the list of lines and create a list of\n",
    "# the attributes.\n",
    "lines.reverse()\n",
    "\n",
    "\n",
    "#to extract the attribute names from the data and put it in a list called attributes\n",
    "attribute = [attr.strip() for attr in lines.pop().split(\",\")]\n",
    "attributes=attribute[:-1]\n",
    "target_attr = attribute[-1] #we exclude the last element because it is the \"decision?\"\n",
    "lines.reverse()\n",
    "\n",
    "#Create a list of the data in the data file\n",
    "data = []\n",
    "for line in lines:\n",
    "    data.append(dict(zip(attribute,\n",
    "                         [datum.strip() for datum in line.split(\",\")])))\n",
    "\n",
    "print(\"Data \" + str(data))\n",
    "#code to assign lines of rules in the rule file into a list named \"rules\"\n",
    "rules=[]\n",
    "for line in fin_rules.readlines():\n",
    "    for x in str.split(line):\n",
    "        l.append(x)\n",
    "    rules.append(l)\n",
    "    l=[]\n",
    "\n",
    "#print(str(rules))"
   ]
  },
  {
   "cell_type": "code",
   "execution_count": 43,
   "metadata": {},
   "outputs": [
    {
     "name": "stdout",
     "output_type": "stream",
     "text": [
      "Attributes ['pv', 'w', 'm']\n"
     ]
    }
   ],
   "source": [
    "#code to assign lines of data in the data file seperated by space into a list named \"data1\"\n",
    "#Contracts an array of arrray with the training data\n",
    "fin_spaces=load_file(filename_spaces)\n",
    "\n",
    "ll=[]\n",
    "# data will be read form a file\n",
    "training_data=[]\n",
    "\n",
    "for line in fin_spaces.readlines():\n",
    "    #print(\"Line \"+str(line))\n",
    "    for x in str.split(line):\n",
    "        #print(\"X \" + x)\n",
    "        ll.append(x)\n",
    "    training_data.append(ll)\n",
    "    ll=[]\n",
    "\n",
    "#print(\"Training Data - \" + str(training_data))\n",
    "        \n",
    "#In this step for all data columns (attributes) generate\n",
    "#a list of all unique possible values for each rule\n",
    "\n",
    "v=[]\n",
    "values=[]\n",
    "print(\"Attributes \" + str(attributes))\n",
    "for attribute in attributes:\n",
    "    a_index=attributes.index(attribute)\n",
    "    #attributes is one dimensional\n",
    "    #a_index=0\n",
    "    v=get_values(a_index,training_data)\n",
    "    v.append(\"dontcare\")\n",
    "    values.append(v)\n",
    "    \n",
    "#to extract class decisions and put it in a list called classes\n",
    "#print(\"Final values array-> \" + str(values))  "
   ]
  },
  {
   "cell_type": "code",
   "execution_count": 44,
   "metadata": {},
   "outputs": [
    {
     "name": "stdout",
     "output_type": "stream",
     "text": [
      "Classes ['cinema', 'tennis', 'stay-in', 'shopping']\n"
     ]
    }
   ],
   "source": [
    "classes=extact_class(training_data)\n",
    "print(\"Classes \" + str(classes))\n",
    "\n",
    "#Classes are the decisions\n"
   ]
  },
  {
   "cell_type": "code",
   "execution_count": 50,
   "metadata": {},
   "outputs": [
    {
     "name": "stdout",
     "output_type": "stream",
     "text": [
      "Classes ['cinema', 'tennis', 'stay-in', 'shopping']\n",
      "\n",
      "Rules [['yes', 'dontcare', 'rich', 'cinema'], ['no', 'windy', 'poor', 'cinema'], ['no', 'windy', 'rich', 'shopping'], ['no', 'sunny', 'dontcare', 'tennis'], ['no', 'rainy', 'poor', 'stay-in']]\n",
      "\n",
      " Classis var cinema\n"
     ]
    }
   ],
   "source": [
    "default = majority_value()"
   ]
  },
  {
   "cell_type": "code",
   "execution_count": 51,
   "metadata": {},
   "outputs": [
    {
     "name": "stdout",
     "output_type": "stream",
     "text": [
      " Class count [2, 1, 1, 1]\n"
     ]
    }
   ],
   "source": [
    "classcount= class_frequency()"
   ]
  },
  {
   "cell_type": "code",
   "execution_count": 52,
   "metadata": {},
   "outputs": [],
   "source": [
    "#code to extract the decisions from the data    \t\n",
    "classificationfromdata=[r[-1] for r in training_data]\n",
    "counter=0"
   ]
  },
  {
   "cell_type": "code",
   "execution_count": 53,
   "metadata": {},
   "outputs": [
    {
     "name": "stdout",
     "output_type": "stream",
     "text": [
      "Treeee {'pv': {'yes': 'cinema', 'no': {'w': {'windy': {'m': {'poor': 'cinema', 'rich': 'shopping'}}, 'sunny': 'tennis', 'rainy': 'stay-in'}}}}\n",
      "\n",
      " - pv\n",
      " \t yes\n",
      "\t\t->\tcinema\n",
      " \t no\n",
      "\t - w\n",
      "\t \t windy\n",
      "\t\t - m\n",
      "\t\t \t poor\n",
      "\t\t\t\t->\tcinema\n",
      "\t\t \t rich\n",
      "\t\t\t\t->\tshopping\n",
      "\t \t sunny\n",
      "\t\t\t->\ttennis\n",
      "\t \t rainy\n",
      "\t\t\t->\tstay-in\n",
      "#leaf nodes= 10\n",
      "#attribute nodes= 6\n"
     ]
    }
   ],
   "source": [
    "#Create the decision tree\n",
    "\n",
    "\n",
    "level=0\n",
    "tree = create_decision_tree(rules, attributes, classes)\n",
    "vStr=\"\"\n",
    "print(\"Treeee \" + str(tree)+ \"\\n\")\n",
    "print_tree(tree,vStr,attributes)\n",
    "print (\"#leaf nodes= \"+ str(leafs))\n",
    "print (\"#attribute nodes= \"+str(nodes))"
   ]
  },
  {
   "cell_type": "code",
   "execution_count": 54,
   "metadata": {},
   "outputs": [
    {
     "name": "stdout",
     "output_type": "stream",
     "text": [
      "Classification result -> ['cinema', 'tennis', 'cinema', 'cinema', 'stay-in', 'cinema', 'cinema', 'shopping', 'cinema', 'tennis']\n"
     ]
    }
   ],
   "source": [
    "#Classify the records in the examples list from the tree\n",
    "classificationfromtree=[]\n",
    "examples=data[:]\n",
    "classificationfromtree = classify(tree, examples)"
   ]
  },
  {
   "cell_type": "code",
   "execution_count": 55,
   "metadata": {},
   "outputs": [
    {
     "name": "stdout",
     "output_type": "stream",
     "text": [
      "accuracy= 100.0\n",
      "The prunned tree we prune rules based on a threshold and our threshold here is 20%, this means we remove rules that cover 20% or less examples\n"
     ]
    }
   ],
   "source": [
    "#compare the classification from the tree to the classification in the data\n",
    "for i in range(0,len(training_data)):\n",
    "    \n",
    "    if (classificationfromtree[i]==classificationfromdata[i]):\n",
    "        counter=counter+1\n",
    "#end\n",
    "        \n",
    "#print accuracy\n",
    "accuracy =((counter*100)/len(training_data))\n",
    "print (\"accuracy= \"+str(accuracy) )    \n",
    "print (\"The prunned tree we prune rules based on a threshold and our threshold here is 20%, this means we remove rules that cover 20% or less examples\")\n"
   ]
  },
  {
   "cell_type": "code",
   "execution_count": 60,
   "metadata": {},
   "outputs": [],
   "source": [
    "#close the file\n",
    "fin_comma.close()"
   ]
  }
 ],
 "metadata": {
  "kernelspec": {
   "display_name": "Python 3",
   "language": "python",
   "name": "python3"
  },
  "language_info": {
   "codemirror_mode": {
    "name": "ipython",
    "version": 3
   },
   "file_extension": ".py",
   "mimetype": "text/x-python",
   "name": "python",
   "nbconvert_exporter": "python",
   "pygments_lexer": "ipython3",
   "version": "3.7.6"
  }
 },
 "nbformat": 4,
 "nbformat_minor": 2
}
